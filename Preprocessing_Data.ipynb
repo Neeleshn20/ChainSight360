{
 "cells": [
  {
   "cell_type": "markdown",
   "id": "608fa9b2",
   "metadata": {},
   "source": [
    "Python code for merging the three datasets of WalMart-Features, Stores and Train CSVs"
   ]
  },
  {
   "cell_type": "code",
   "execution_count": 2,
   "id": "ca2ddada",
   "metadata": {},
   "outputs": [
    {
     "name": "stdout",
     "output_type": "stream",
     "text": [
      "   Store  Dept       Date  Weekly_Sales  IsHoliday  Temperature  Fuel_Price  \\\n",
      "0      1     1 2010-02-05      24924.50      False        42.31       2.572   \n",
      "1      1     1 2010-02-12      46039.49       True        38.51       2.548   \n",
      "2      1     1 2010-02-19      41595.55      False        39.93       2.514   \n",
      "3      1     1 2010-02-26      19403.54      False        46.63       2.561   \n",
      "4      1     1 2010-03-05      21827.90      False        46.50       2.625   \n",
      "\n",
      "   MarkDown1  MarkDown2  MarkDown3  MarkDown4  MarkDown5         CPI  \\\n",
      "0        NaN        NaN        NaN        NaN        NaN  211.096358   \n",
      "1        NaN        NaN        NaN        NaN        NaN  211.242170   \n",
      "2        NaN        NaN        NaN        NaN        NaN  211.289143   \n",
      "3        NaN        NaN        NaN        NaN        NaN  211.319643   \n",
      "4        NaN        NaN        NaN        NaN        NaN  211.350143   \n",
      "\n",
      "   Unemployment Type    Size  \n",
      "0         8.106    A  151315  \n",
      "1         8.106    A  151315  \n",
      "2         8.106    A  151315  \n",
      "3         8.106    A  151315  \n",
      "4         8.106    A  151315  \n",
      "(421570, 16)\n"
     ]
    }
   ],
   "source": [
    "import pandas as pd\n",
    "\n",
    "# Load data\n",
    "train = pd.read_csv(r\"Walmart\\train.csv\")\n",
    "features = pd.read_csv(r\"Walmart\\features.csv\")\n",
    "stores = pd.read_csv(r\"Walmart\\stores.csv\")\n",
    "\n",
    "# Convert Date to datetime\n",
    "train[\"Date\"] = pd.to_datetime(train[\"Date\"])\n",
    "features[\"Date\"] = pd.to_datetime(features[\"Date\"])\n",
    "\n",
    "# Merge train with features\n",
    "train_features = pd.merge(train, features, on=[\"Store\", \"Date\", \"IsHoliday\"], how=\"left\")\n",
    "\n",
    "# Merge with stores metadata\n",
    "master = pd.merge(train_features, stores, on=\"Store\", how=\"left\")\n",
    "\n",
    "# Sort by Store, Dept, Date\n",
    "master = master.sort_values(by=[\"Store\", \"Dept\", \"Date\"]).reset_index(drop=True)\n",
    "\n",
    "# Inspect\n",
    "print(master.head())\n",
    "print(master.shape)\n",
    "\n",
    "# Save for reuse\n",
    "master.to_csv(\"walmart_master.csv\", index=False)\n"
   ]
  },
  {
   "cell_type": "markdown",
   "id": "05225fb8",
   "metadata": {},
   "source": []
  }
 ],
 "metadata": {
  "kernelspec": {
   "display_name": "chainsight360",
   "language": "python",
   "name": "python3"
  },
  "language_info": {
   "codemirror_mode": {
    "name": "ipython",
    "version": 3
   },
   "file_extension": ".py",
   "mimetype": "text/x-python",
   "name": "python",
   "nbconvert_exporter": "python",
   "pygments_lexer": "ipython3",
   "version": "3.10.18"
  }
 },
 "nbformat": 4,
 "nbformat_minor": 5
}
